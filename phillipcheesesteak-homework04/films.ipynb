{
 "cells": [
  {
   "cell_type": "markdown",
   "metadata": {},
   "source": [
    "## 1. Retrieve the data, and examine it"
   ]
  },
  {
   "cell_type": "code",
   "execution_count": 75,
   "metadata": {},
   "outputs": [],
   "source": [
    "import json\n",
    "import pandas as pd\n",
    "import requests as re"
   ]
  },
  {
   "cell_type": "code",
   "execution_count": 76,
   "metadata": {},
   "outputs": [],
   "source": [
    "res = re.get('http://linserv1.cims.nyu.edu:10000/films?_page=1')\n",
    "d = res.json()"
   ]
  },
  {
   "cell_type": "markdown",
   "metadata": {},
   "source": [
    "#### Interested keys\n",
    "- director\n",
    "- rt_score\n",
    "\n",
    "#### What happens when url changes\n",
    "It loads a different page\n",
    "\n",
    "## 2. Load the data into a DataFrame"
   ]
  },
  {
   "cell_type": "code",
   "execution_count": 77,
   "metadata": {},
   "outputs": [],
   "source": [
    "df = pd.DataFrame.from_dict(d)\n",
    "#Request -> dictionary -> dataframe\n",
    "res1 = re.get('http://linserv1.cims.nyu.edu:10000/films?_page=2')\n",
    "d1 = res1.json()\n",
    "df1 = pd.DataFrame.from_dict(d1)\n",
    "\n",
    "#Request -> dictionary -> dataframe\n",
    "res2 = re.get('http://linserv1.cims.nyu.edu:10000/films?_page=3')\n",
    "d2 = res2.json()\n",
    "df2 = pd.DataFrame.from_dict(d2)\n",
    "\n",
    "#Append all the dataframe\n",
    "df = df.append(df1, ignore_index = True)\n",
    "df = df.append(df2, ignore_index = True)\n"
   ]
  },
  {
   "cell_type": "markdown",
   "metadata": {},
   "source": [
    "## 3. Report"
   ]
  },
  {
   "cell_type": "code",
   "execution_count": 81,
   "metadata": {},
   "outputs": [
    {
     "data": {
      "text/html": [
       "<div>\n",
       "<style scoped>\n",
       "    .dataframe tbody tr th:only-of-type {\n",
       "        vertical-align: middle;\n",
       "    }\n",
       "\n",
       "    .dataframe tbody tr th {\n",
       "        vertical-align: top;\n",
       "    }\n",
       "\n",
       "    .dataframe thead th {\n",
       "        text-align: right;\n",
       "    }\n",
       "</style>\n",
       "<table border=\"1\" class=\"dataframe\">\n",
       "  <thead>\n",
       "    <tr style=\"text-align: right;\">\n",
       "      <th></th>\n",
       "      <th>avg_rt_score</th>\n",
       "      <th>count</th>\n",
       "    </tr>\n",
       "  </thead>\n",
       "  <tbody>\n",
       "    <tr>\n",
       "      <th>Hayao Miyazaki</th>\n",
       "      <td>92.777778</td>\n",
       "      <td>9</td>\n",
       "    </tr>\n",
       "    <tr>\n",
       "      <th>Isao Takahata</th>\n",
       "      <td>90.000000</td>\n",
       "      <td>5</td>\n",
       "    </tr>\n",
       "    <tr>\n",
       "      <th>Gorō Miyazaki</th>\n",
       "      <td>62.000000</td>\n",
       "      <td>2</td>\n",
       "    </tr>\n",
       "    <tr>\n",
       "      <th>Hiromasa Yonebayashi</th>\n",
       "      <td>93.500000</td>\n",
       "      <td>2</td>\n",
       "    </tr>\n",
       "    <tr>\n",
       "      <th>Hiroyuki Morita</th>\n",
       "      <td>89.000000</td>\n",
       "      <td>1</td>\n",
       "    </tr>\n",
       "    <tr>\n",
       "      <th>Yoshifumi Kondō</th>\n",
       "      <td>91.000000</td>\n",
       "      <td>1</td>\n",
       "    </tr>\n",
       "    <tr>\n",
       "      <th>Michaël Dudok de Wit</th>\n",
       "      <td>93.000000</td>\n",
       "      <td>1</td>\n",
       "    </tr>\n",
       "  </tbody>\n",
       "</table>\n",
       "</div>"
      ],
      "text/plain": [
       "                      avg_rt_score  count\n",
       "Hayao Miyazaki           92.777778      9\n",
       "Isao Takahata            90.000000      5\n",
       "Gorō Miyazaki            62.000000      2\n",
       "Hiromasa Yonebayashi     93.500000      2\n",
       "Hiroyuki Morita          89.000000      1\n",
       "Yoshifumi Kondō          91.000000      1\n",
       "Michaël Dudok de Wit     93.000000      1"
      ]
     },
     "execution_count": 81,
     "metadata": {},
     "output_type": "execute_result"
    }
   ],
   "source": [
    "#Turn rt_score type object -> numeric for calculations\n",
    "df['rt_score'] = pd.to_numeric(df['rt_score'])\n",
    "\n",
    "#Make dataframe that will serve as the report\n",
    "dfclean = pd.DataFrame(columns = ['avg_rt_score', 'count'])\n",
    "\n",
    "#Make the indexes directors' names\n",
    "dfclean.reindex(df['director'])\n",
    "#Calculate numeber of works of director by counting occurence in name\n",
    "dfclean['count'] = df['director'].value_counts()\n",
    "#Calculate average rt score of each director using groupby and put it in the column\n",
    "dfclean['avg_rt_score'] = df.groupby(['director']).mean()\n",
    "\n",
    "dfclean"
   ]
  },
  {
   "cell_type": "code",
   "execution_count": null,
   "metadata": {},
   "outputs": [],
   "source": []
  }
 ],
 "metadata": {
  "kernelspec": {
   "display_name": "Python 3",
   "language": "python",
   "name": "python3"
  },
  "language_info": {
   "codemirror_mode": {
    "name": "ipython",
    "version": 3
   },
   "file_extension": ".py",
   "mimetype": "text/x-python",
   "name": "python",
   "nbconvert_exporter": "python",
   "pygments_lexer": "ipython3",
   "version": "3.8.8"
  }
 },
 "nbformat": 4,
 "nbformat_minor": 4
}
