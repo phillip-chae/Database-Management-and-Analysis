{
 "cells": [
  {
   "cell_type": "markdown",
   "metadata": {},
   "source": [
    "# Jenny: a Village Idyl\n",
    "\n",
    "### Author: M. A. Curtois\n",
    "\n",
    "### Other works\n",
    "1. *Elf-Knights*\n",
    "2. *Tracked*\n",
    "3. *My Best Pupil*\n",
    "\n",
    "### [Link to the Book](https://www.gutenberg.org/ebooks/66367)\n",
    "\n",
    "### Licensing information\n",
    "- Credits: Paul Haxo from images graciously made available by Historical Texts and the British Library.\n",
    "- Original Publication: United Kingdom :Eden, Remington & Co.,1890.\n",
    "- Copyright Status: Public domain in the USA.\n",
    "\n",
    "### Encoding: UTF-8\n",
    "\n",
    "---\n",
    "\n",
    "# That Marvel—The Movie\n",
    "\n",
    "### Author: Edward Sims, Van Zile\n",
    "\n",
    "### Other works\n",
    "1. *A Glance at Its Past, Its Promising Present*\n",
    "2. *and Its Significant Future*\n",
    "\n",
    "### [Link to the Book](https://www.gutenberg.org/ebooks/66368)\n",
    "\n",
    "### Licensing information\n",
    "- Copyright Status: Public domain in the USA.\n",
    "\n",
    "### Encoding: UTF-8\n",
    "\n",
    "---\n",
    "\n",
    "### Question I would like to have answered: What is the most commonly used word in the books?"
   ]
  },
  {
   "cell_type": "code",
   "execution_count": 21,
   "metadata": {},
   "outputs": [],
   "source": [
    "#import necessary modules\n",
    "import string\n",
    "import pandas as pd"
   ]
  },
  {
   "cell_type": "code",
   "execution_count": 22,
   "metadata": {},
   "outputs": [],
   "source": [
    "#Open book 1\n",
    "book1 = open('data/66367-0.txt', encoding='utf-8')\n",
    "#Copy its contents\n",
    "read1 = book1.read()\n",
    "#Remove punctuations and case\n",
    "readable1 = read1.lower().split()\n",
    "for i in readable1:\n",
    "    i = i.replace(\",\",\"\")\n",
    "    i = i.replace(\";\",\"\") \n",
    "    i = i.replace(\".\",\"\") \n",
    "    i = i.replace(\"-\",\"\") \n",
    "    i = i.replace(\"?\",\"\") \n",
    "    i = i.replace(\"!\",\"\") \n",
    "    i = i.replace(\"*\",\"\") \n",
    "#Set up a word counting dictionary \n",
    "d1 = {}\n",
    "for i in readable1:\n",
    "    if i not in d1:\n",
    "        d1[i] = 1\n",
    "    else:\n",
    "        d1[i] += 1"
   ]
  },
  {
   "cell_type": "code",
   "execution_count": 35,
   "metadata": {},
   "outputs": [],
   "source": [
    "#Open book 2\n",
    "book2 = open('data/66368-0.txt', encoding='utf-8')\n",
    "#Copy its contents\n",
    "read2 = book2.read()\n",
    "#Remove punctuations and case\n",
    "readable2 = read2.lower().split()\n",
    "for i in readable2:\n",
    "    i = i.replace(\",\",\"\")\n",
    "    i = i.replace(\";\",\"\") \n",
    "    i = i.replace(\".\",\"\") \n",
    "    i = i.replace(\"-\",\"\") \n",
    "    i = i.replace(\"?\",\"\") \n",
    "    i = i.replace(\"!\",\"\") \n",
    "    i = i.replace(\"*\",\"\") \n",
    "    i = i.replace(\"marvel--the\",\"\")\n",
    "    \n",
    "#Set up a word counting dictionary \n",
    "d2 = {}\n",
    "for i in readable2:\n",
    "    if i not in d2:\n",
    "        d2[i] = 1\n",
    "    else:\n",
    "        d2[i] += 1"
   ]
  },
  {
   "cell_type": "code",
   "execution_count": 33,
   "metadata": {},
   "outputs": [],
   "source": [
    "#Sort the word count list for book 1 so that word count starts from largest to smallest\n",
    "list1 = []\n",
    "for i in d1:\n",
    "    list1.append([d1[i],i])\n",
    "list1.sort()\n",
    "list1.reverse()"
   ]
  },
  {
   "cell_type": "code",
   "execution_count": 37,
   "metadata": {},
   "outputs": [],
   "source": [
    "#Sort the word count list for book 2 so that word count starts from largest to smallest\n",
    "list2 = []\n",
    "for i in d2:\n",
    "    list2.append([d2[i],i])\n",
    "list2.sort()\n",
    "list2.reverse()"
   ]
  },
  {
   "cell_type": "code",
   "execution_count": 34,
   "metadata": {},
   "outputs": [
    {
     "name": "stdout",
     "output_type": "stream",
     "text": [
      "The 20 most common words for Jenny a Village Idyl is\n",
      "[3845, 'the']\n",
      "[2279, 'to']\n",
      "[2248, 'and']\n",
      "[1814, 'of']\n",
      "[1422, 'a']\n",
      "[1185, 'her']\n",
      "[1168, 'he']\n",
      "[1147, 'was']\n",
      "[1116, 'in']\n",
      "[1112, 'that']\n",
      "[930, 'had']\n",
      "[887, 'his']\n",
      "[845, 'she']\n",
      "[817, 'with']\n",
      "[763, 'not']\n",
      "[721, 'as']\n",
      "[679, 'for']\n",
      "[667, 'it']\n",
      "[591, 'be']\n",
      "[502, 'i']\n"
     ]
    }
   ],
   "source": [
    "print(\"The 20 most common words for Jenny a Village Idyl is\")\n",
    "for i in range(20):\n",
    "    print(list1[i])"
   ]
  },
  {
   "cell_type": "code",
   "execution_count": 39,
   "metadata": {},
   "outputs": [
    {
     "name": "stdout",
     "output_type": "stream",
     "text": [
      "The 20 most common words for Marvel -- the village idyl is\n",
      "[3510, 'the']\n",
      "[2166, 'of']\n",
      "[1277, 'to']\n",
      "[1097, 'and']\n",
      "[1060, 'a']\n",
      "[890, 'in']\n",
      "[655, 'that']\n",
      "[465, 'is']\n",
      "[440, 'for']\n",
      "[340, 'as']\n",
      "[339, 'it']\n",
      "[301, 'by']\n",
      "[265, 'has']\n",
      "[265, 'be']\n",
      "[248, 'its']\n",
      "[235, 'at']\n",
      "[230, 'with']\n",
      "[224, 'not']\n",
      "[216, 'from']\n",
      "[205, 'or']\n"
     ]
    }
   ],
   "source": [
    "print(\"The 20 most common words for Marvel -- the village idyl is\")\n",
    "for i in range(20):\n",
    "    print(list2[i])"
   ]
  },
  {
   "cell_type": "code",
   "execution_count": null,
   "metadata": {},
   "outputs": [],
   "source": []
  }
 ],
 "metadata": {
  "kernelspec": {
   "display_name": "Python 3",
   "language": "python",
   "name": "python3"
  },
  "language_info": {
   "codemirror_mode": {
    "name": "ipython",
    "version": 3
   },
   "file_extension": ".py",
   "mimetype": "text/x-python",
   "name": "python",
   "nbconvert_exporter": "python",
   "pygments_lexer": "ipython3",
   "version": "3.8.8"
  }
 },
 "nbformat": 4,
 "nbformat_minor": 4
}
