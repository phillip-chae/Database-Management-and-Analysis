{
 "cells": [
  {
   "cell_type": "markdown",
   "id": "89689f64",
   "metadata": {},
   "source": [
    "# Homework 02"
   ]
  },
  {
   "cell_type": "markdown",
   "id": "0c3e725b",
   "metadata": {},
   "source": [
    "\n",
    "## Part 1 - Questions\n",
    "\n",
    "### Question 1: \n",
    "\n",
    "Has the death rate gone down since the initial combat against the coronavirus?\n",
    "\n",
    "* Who (population): US tested individuals\n",
    "* What (subject, discipline): COVID-19 Death ratio as time passed\n",
    "* Where (location): US\n",
    "* When (snapshot, longitudinal): The past year\n",
    "* How much data do you need to do the analysis/work: daily deaths, daily cases, and respective dates\n",
    "\n",
    "### Question 2: \n",
    "\n",
    "Does higher daily cases correlate to higher death rates?\n",
    "\n",
    "* Who (population): US tested individuals\n",
    "* What (subject, discipline): COVID-19 daily cases vs death ratio\n",
    "* Where (location): US\n",
    "* When (snapshot, longitudinal): The past year\n",
    "* How much data do you need to do the analysis/work: daily deaths, daily cases\n",
    "\n",
    "### Who Might Collect Relevant Data / What Articles or Publications Cite a Relevant Data Set?\n",
    "\n",
    "CDC, Google, worldometers.info"
   ]
  },
  {
   "cell_type": "markdown",
   "id": "f1c3a06f",
   "metadata": {},
   "source": [
    "## Part 2 - Selecting a Data Set, Adding Documentation\n",
    "\n",
    "\n",
    "\n",
    "1. Name / Title: National History\n",
    "2. Link to Data: \n",
    "    * [Data Download](https://covidtracking.com/data/download)\n",
    "    * [License](https://covidtracking.com/about-data/license)\n",
    "3. Source / Origin: \n",
    "\t* Author or Creator: Artis Curiskis, Rachel Glickhouse, Alice Goldfarb, Julia Kodysh, Zach Lipton, Dave Luo, Jessica Malaty-Rivera, Michal Mart, Theo Michel, Kevin Miller, Kara Oehler, Brandon Park, Kara Schechtman\n",
    "\t* Publication Date: 3/7/2021\n",
    "\t* Publisher: The COVID Tracking Project\n",
    "\t* Version or Data Accessed: TODO\n",
    "4. License: Creative Commons CC BY 4.0\n",
    "5. Can You Use this Data Set for Your Intended Use Case? Yes"
   ]
  },
  {
   "cell_type": "markdown",
   "id": "5395f787",
   "metadata": {},
   "source": [
    "## Format\n",
    "\n"
   ]
  },
  {
   "cell_type": "markdown",
   "id": "448f641f",
   "metadata": {},
   "source": [
    "\n",
    "### Overview\n",
    "\n",
    "* Format: CSV\n",
    "* Size: 42 KB\n",
    "* Number of Records: 421\n",
    "\n"
   ]
  },
  {
   "cell_type": "markdown",
   "id": "274a858e",
   "metadata": {},
   "source": [
    "### Sample of Data\n",
    "\n",
    "\n"
   ]
  },
  {
   "cell_type": "code",
   "execution_count": 161,
   "id": "dc708024",
   "metadata": {},
   "outputs": [
    {
     "data": {
      "text/plain": [
       "[('\"2021-03-07\"', '28756489'),\n",
       " ('\"2021-03-06\"', '28714654'),\n",
       " ('\"2021-03-05\"', '28654639'),\n",
       " ('\"2021-03-04\"', '28585852'),\n",
       " ('\"2021-03-03\"', '28520365'),\n",
       " ('\"2021-03-02\"', '28453529'),\n",
       " ('\"2021-03-01\"', '28399281'),\n",
       " ('\"2021-02-28\"', '28351189'),\n",
       " ('\"2021-02-27\"', '28296840'),\n",
       " ('\"2021-02-26\"', '28225595')]"
      ]
     },
     "execution_count": 161,
     "metadata": {},
     "output_type": "execute_result"
    }
   ],
   "source": [
    "# TODO show a few lines of data from the actual file\n",
    "\n",
    "# Use \"regular\" Python to do this in this code block\n",
    "# Assume that jupyter-lab was started in your root directory\n",
    "def get_cases():\n",
    "    with open('.././data/raw/national-history.csv', 'r') as dataset:\n",
    "        next(dataset)\n",
    "        for line in dataset:\n",
    "            separate = line.split(',')\n",
    "            yield(separate[0], separate[12])\n",
    "cases = list(get_cases())\n",
    "cases[:10]"
   ]
  },
  {
   "cell_type": "markdown",
   "id": "c5f938b4",
   "metadata": {},
   "source": [
    "\n",
    "### Fields or Column Headers\n",
    "\n",
    "* Field/Column 1: date (Integer Array)\n",
    "* Field/Column 2: death (Integer)\n",
    "* Field/Column 3: deathIncrease (Integer)\n",
    "* Field/Column 4: inIcuCumulative (Integer)\n",
    "* Field/Column 5: inIcuCurrently (Integer)\n",
    "* Field/Column 6: hospitalizedIncrease (Integer)\n",
    "* Field/Column 7: hospitalizedCumulative (Integer)\n",
    "* Field/Column 8: hospitalizedCurrently (Integer)\n",
    "* Field/Column 9: negative (Integer)\n",
    "* Field/Column 10: negativeIncrease (Integer)\n",
    "* Field/Column 11: onVentilatorCumulative (Integer)\n",
    "* Field/Column 12: onVentilatorCurrently (Integer)\n",
    "* Field/Column 13: positive (Integer)\n",
    "* Field/Column 14: positiveIncrease (Integer)\n",
    "* Field/Column 15: states (Integer)\n",
    "* Field/Column 16: totalTestResults (Integer)\n",
    "* Field/Column 17: totalTestResultsIncrease (Integer)"
   ]
  },
  {
   "cell_type": "markdown",
   "id": "d1dcc460",
   "metadata": {},
   "source": [
    "## Part 3 - Extract / Transform\n",
    "\n",
    "TODO describe your process for extracting, transforming, cleaning your incoming data:\n",
    "\n",
    "* what columns you'll be using (extracting) from your dataset\n",
    "* how you're planning to convert the data into analogous python types / how you'll deal with type issues (for example, you may want a column that's numeric, but the data contains a label, such as 4 months) \n",
    "* any other kind of cleaning (_normalizing_ data, filling in missing values, etc.) that you'll have to perform\n",
    "* Columns extracting: date, deathIncrease, positiveIncrease\n",
    "* date: convert to a single integer that is readable by custom method\n",
    "* deathIncrease, positiveIncrease\n"
   ]
  },
  {
   "cell_type": "code",
   "execution_count": 182,
   "id": "f9e2577f",
   "metadata": {
    "scrolled": false
   },
   "outputs": [],
   "source": [
    "#Store data in double array\n",
    "with open('.././data/raw/national-history.csv', 'r') as dataset: \n",
    "    cleandata = []\n",
    "    next(dataset)\n",
    "    counter = 0\n",
    "    for line in dataset:\n",
    "        cleandata.append(line.split(','))\n",
    "        #Stop at line 342 as that is when there are incomplete data\n",
    "        counter+= 1\n",
    "        if counter == 342:\n",
    "            break\n",
    "#Date, Positive case increase, death increase array\n",
    "date = []\n",
    "posInc = []\n",
    "deaInc = []\n",
    "for i in range(len(cleandata)):\n",
    "    date.append(cleandata[i][0])\n",
    "    posInc.append(int(cleandata[i][13]))\n",
    "    deaInc.append(int(cleandata[i][2]))\n",
    "\n",
    "#On average, it is about a 12 day delay for the daily death graph to be proportional to daily case graph\n",
    "#So, a death ratio (daily death/daily case) with a 12 day delay\n",
    "deaRat = []\n",
    "for i in range(len(cleandata)):\n",
    "    if i+12 < len(cleandata):\n",
    "        deaRat.append(deaInc[i]/posInc[i+12])\n",
    "\n",
    "deacase = []\n",
    "for i in range(len(cleandata)):\n",
    "    if i+12 < len(cleandata):\n",
    "        deacase.append(deaRat[i]/posInc[i+12])"
   ]
  },
  {
   "cell_type": "markdown",
   "id": "cd1081b1",
   "metadata": {},
   "source": [
    "## Part 4 - Descriptive Statistics\n",
    "\n",
    "### Analysis on Numeric Data\n",
    "\n",
    "#### Central Tendency\n",
    "\n"
   ]
  },
  {
   "cell_type": "code",
   "execution_count": 163,
   "id": "9044e88b",
   "metadata": {},
   "outputs": [
    {
     "name": "stdout",
     "output_type": "stream",
     "text": [
      "Mean:  0.02390738680641765\n",
      "Median:  0.019131734389038098\n"
     ]
    }
   ],
   "source": [
    "import numpy as np\n",
    "print(\"Mean: \", np.mean(deaRat))\n",
    "print(\"Median: \", np.median(deaRat))"
   ]
  },
  {
   "cell_type": "markdown",
   "id": "3c20c74a",
   "metadata": {},
   "source": [
    "#### Dispersion"
   ]
  },
  {
   "cell_type": "code",
   "execution_count": 164,
   "id": "8a11581f",
   "metadata": {},
   "outputs": [
    {
     "name": "stdout",
     "output_type": "stream",
     "text": [
      "Variance:  0.0002875610787635449\n",
      "Standard deviation:  0.01695762597663791 \n",
      "\n"
     ]
    }
   ],
   "source": [
    "def variance(data):\n",
    "    mu = np.mean(data)\n",
    "    return sum((x-mu) ** 2 for x in data) / len(data)\n",
    "print(\"Variance: \",variance(deaRat))\n",
    "print(\"Standard deviation: \", variance(deaRat)**.5, \"\\n\")"
   ]
  },
  {
   "cell_type": "markdown",
   "id": "ecdcdb07",
   "metadata": {},
   "source": [
    "#### Outliers\n"
   ]
  },
  {
   "cell_type": "code",
   "execution_count": 176,
   "id": "baf3e247",
   "metadata": {},
   "outputs": [
    {
     "name": "stdout",
     "output_type": "stream",
     "text": [
      "[]\n",
      "So no outliers\n",
      "\n"
     ]
    }
   ],
   "source": [
    "# TODO: copy and paste your results here\n",
    "def q1(d):\n",
    "    qq1 = len(d) // 4\n",
    "    return d[qq1]\n",
    "def q3(d):\n",
    "    qq3 = 3 * len(d) // 4\n",
    "    return d[qq3]\n",
    "    \n",
    "temp1 = deaRat\n",
    "temp1.sort()\n",
    "temp1q1 = q1(temp1)\n",
    "temp1q3 = q3(temp1)\n",
    "IQRrange = temp1q3 - temp1q1\n",
    "outlier1 = []\n",
    "for i in range(len(temp1)):\n",
    "    if temp1[i] < temp1q1 - 1.5 * IQRrange:\n",
    "        if temp1[i] > temp1q3 + 1.5 * IQRrange:\n",
    "            outlier1.append(temp1[i])\n",
    "print(outlier1)\n",
    "print(\"So no outliers\\n\")"
   ]
  },
  {
   "cell_type": "markdown",
   "id": "a6bc7244",
   "metadata": {},
   "source": [
    "#### Other\n"
   ]
  },
  {
   "cell_type": "code",
   "execution_count": 166,
   "id": "cf350445",
   "metadata": {},
   "outputs": [],
   "source": [
    "# N/A"
   ]
  },
  {
   "cell_type": "markdown",
   "id": "76da6760",
   "metadata": {},
   "source": [
    "###  Analysis on Categorical Data"
   ]
  },
  {
   "cell_type": "markdown",
   "id": "61826bb7",
   "metadata": {},
   "source": [
    "#### Frequency"
   ]
  },
  {
   "cell_type": "code",
   "execution_count": 167,
   "id": "71e5f95c",
   "metadata": {},
   "outputs": [],
   "source": [
    "#N/A"
   ]
  },
  {
   "cell_type": "markdown",
   "id": "f055956e",
   "metadata": {},
   "source": [
    "#### Unique Values"
   ]
  },
  {
   "cell_type": "code",
   "execution_count": 168,
   "id": "2f3d348a",
   "metadata": {},
   "outputs": [],
   "source": [
    "# N/A"
   ]
  },
  {
   "cell_type": "markdown",
   "id": "10f94fe9",
   "metadata": {},
   "source": [
    "## Part 5 - Visualizations\n",
    "\n"
   ]
  },
  {
   "cell_type": "code",
   "execution_count": 181,
   "id": "3523c167",
   "metadata": {
    "scrolled": true
   },
   "outputs": [
    {
     "data": {
      "text/plain": [
       "Text(0, 0.5, 'Death rate')"
      ]
     },
     "execution_count": 181,
     "metadata": {},
     "output_type": "execute_result"
    },
    {
     "data": {
      "image/png": "[encoded data removed]",
      "text/plain": [
       "<Figure size 432x288 with 1 Axes>"
      ]
     },
     "metadata": {
      "needs_background": "light"
     },
     "output_type": "display_data"
    }
   ],
   "source": [
    "# TODO: add visualizations here\n",
    "import matplotlib.pyplot as plt\n",
    "import matplotlib\n",
    "from datetime import datetime\n",
    "\n",
    "#Death rate as time passes plot\n",
    "dattime = []\n",
    "for i in range(len(date)):\n",
    "    if i+12 < len(date):\n",
    "        date[i] = date[i].replace('\"','')\n",
    "        dattime.append(datetime.strptime(date[i], \"%Y-%m-%d\"))\n",
    "dates = matplotlib.dates.date2num(dattime)\n",
    "matplotlib.pyplot.plot_date(dates,deaRat)\n",
    "plt.xlabel('Date (4/12/2020 - 3/7/2021)')\n",
    "plt.ylabel('Death rate')\n",
    "#Death rate vs high positive cases"
   ]
  },
  {
   "cell_type": "markdown",
   "id": "92f50e9d",
   "metadata": {},
   "source": [
    "This is the death rate of COVID positive patients from 4/12/2020 to 3/7/2021."
   ]
  },
  {
   "cell_type": "code",
   "execution_count": 180,
   "id": "bcfbfb26",
   "metadata": {},
   "outputs": [
    {
     "name": "stdout",
     "output_type": "stream",
     "text": [
      "<class 'list'>\n"
     ]
    },
    {
     "data": {
      "text/plain": [
       "Text(0, 0.5, 'Death Rate')"
      ]
     },
     "execution_count": 180,
     "metadata": {},
     "output_type": "execute_result"
    },
    {
     "data": {
      "image/png": "[encoded data removed]",
      "text/plain": [
       "<Figure size 432x288 with 1 Axes>"
      ]
     },
     "metadata": {
      "needs_background": "light"
     },
     "output_type": "display_data"
    }
   ],
   "source": [
    "print(type([posInc]))\n",
    "temp = []\n",
    "for i in range(len(posInc)):\n",
    "    if i + 12 < len(posInc):\n",
    "        temp.append(posInc[i])\n",
    "plt.scatter(temp,deaRat)\n",
    "plt.xlabel('Daily Cases')\n",
    "plt.ylabel('Death Rate')"
   ]
  },
  {
   "cell_type": "markdown",
   "id": "89afabbb",
   "metadata": {},
   "source": [
    "This is the death rate of COVID patients compared to the number of daily cases\n"
   ]
  },
  {
   "cell_type": "markdown",
   "id": "4344b9fe",
   "metadata": {},
   "source": [
    "## Part 6 - Conclusion\n",
    "\n",
    "### Calculations\n",
    "\n",
    "My questions were not particularly answered by any of the central tendencies for any of the statistics except for the trend, as my question was based on time trend and correlations, which do not use those statistics. Although irrelevant, I found out that the death rate is skewed towards the higher rate. There were no outliers, which is good since it  would be worrying for our immune system to be so inconsistent throughout the year. \n",
    "\n",
    "### Graph\n",
    "\n",
    "For the time vs death rate graph, it seems that there was a huge influx of death until about August last year as hospitals struggled to find medical capacity to assist all COVID patients. Then, the death rate began steadily fluctuating, which seems to signal that it is at a stabilized point. This means that COVID-19 has a kill rate of about 2% under normal conditions.\n",
    "\n",
    "For the daily cases vs death rate graph, I was surprised that the trend was inversely proportional. The fact that the death rate was at the highest when we had the lowest cases and death rate was lowest when we had the highest seems unintuitive to me. Perhaps it is because I put a delay for the death rate to catch up to the hospitalization rates. This one needs further testing\n",
    "\n",
    "### Overall\n",
    "\n",
    "My questions were clearly answered, although there is some chance that the second graph had some incorrect calcualtions along the way"
   ]
  },
  {
   "cell_type": "markdown",
   "id": "f28293f3",
   "metadata": {},
   "source": [
    "## In Case the Graph Does Not Look Very Good\n",
    "\n",
    "There seems to be an issue with the graphs where running all the cells at once gives a totally different graph. I need to run Part 3 Extract/Transform Cell once more to get the correct graph. So in case the graph looks strange, I have the picture of what it is supposed to look like.\n",
    "\n",
    "Graph 1:\n",
    "\n",
    "![Graph 1](.././data/raw/graph1.png)\n",
    "\n",
    "Graph 2:\n",
    "![Graph 2](.././data/raw/graph2.png)"
   ]
  },
  {
   "cell_type": "code",
   "execution_count": null,
   "id": "89557685",
   "metadata": {},
   "outputs": [],
   "source": []
  }
 ],
 "metadata": {
  "kernelspec": {
   "display_name": "Python 3",
   "language": "python",
   "name": "python3"
  },
  "language_info": {
   "codemirror_mode": {
    "name": "ipython",
    "version": 3
   },
   "file_extension": ".py",
   "mimetype": "text/x-python",
   "name": "python",
   "nbconvert_exporter": "python",
   "pygments_lexer": "ipython3",
   "version": "3.8.8"
  }
 },
 "nbformat": 4,
 "nbformat_minor": 5
}
